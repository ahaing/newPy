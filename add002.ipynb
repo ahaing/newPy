{
 "cells": [
  {
   "cell_type": "code",
   "execution_count": 3,
   "metadata": {},
   "outputs": [
    {
     "name": "stdout",
     "output_type": "stream",
     "text": [
      "2 1\n"
     ]
    }
   ],
   "source": [
    "#更新codespace\n",
    "x=1\n",
    "y=2\n",
    "#數值交換\n",
    "x,y=y,x\n",
    "print(x,y)"
   ]
  },
  {
   "cell_type": "code",
   "execution_count": 1,
   "metadata": {},
   "outputs": [
    {
     "name": "stdout",
     "output_type": "stream",
     "text": [
      "[1, 2, 3] [1, 2, 3]\n",
      "\n",
      "[[1, 2, 3], [4, 5, 6]]\n",
      "[[1, 2, 3], [4, 5, 6]]\n",
      "\n",
      "[[9, 2, 3], [4, 5, 6]]\n",
      "[[9, 2, 3], [4, 5, 6]]\n",
      "\n",
      "2776304044352\n",
      "2776304042944\n"
     ]
    }
   ],
   "source": [
    "#淺層複製\n",
    "x=[1,2,3]\n",
    "y=x\n",
    "print(x,y)\n",
    "print()\n",
    "list1=[[1,2,3],[4,5,6]]\n",
    "list2=list1.copy()\n",
    "print(list1)\n",
    "print(list2)\n",
    "print()\n",
    "#仍然相互參考\n",
    "list1[0][0]=9\n",
    "print(list1)\n",
    "print(list2)\n",
    "print()\n",
    "#\n",
    "print(id(list1))\n",
    "print(id(list2))\n"
   ]
  },
  {
   "cell_type": "code",
   "execution_count": 13,
   "metadata": {},
   "outputs": [
    {
     "name": "stdout",
     "output_type": "stream",
     "text": [
      "[[1, 2, 3], [4, 5, 6]]\n",
      "[[1, 2, 3], [4, 5, 6]]\n",
      "\n",
      "140710514029440\n",
      "140710512265280\n"
     ]
    }
   ],
   "source": [
    "#深層複製\n",
    "import copy\n",
    "#\n",
    "list1=[[1,2,3],[4,5,6]]\n",
    "list2=copy.deepcopy(list1)\n",
    "\n",
    "print(list1)\n",
    "print(list2)\n",
    "print()\n",
    "#\n",
    "list1[0][0]=9\n",
    "print(id(list1))\n",
    "print(id(list2))\n",
    "#深層複製:深層複製是將原始資料結構及其內容完全複製到一個新的對象中。這包括資料結構中的所有嵌套對象，使新的對象與原始對象相互獨立，修改其中一個不會影響另一個。"
   ]
  },
  {
   "cell_type": "code",
   "execution_count": 1,
   "metadata": {},
   "outputs": [
    {
     "name": "stdout",
     "output_type": "stream",
     "text": [
      "對a四捨五入 4\n",
      "對b四捨五入 4\n",
      "對c四捨五入 289\n",
      "對d四捨五入 999\n",
      "對a四捨五入(floor) 3\n",
      "對a四捨五入(ceil) 4\n",
      "對b四捨五入(floor) 4\n",
      "對b四捨五入(ceil) 5\n"
     ]
    }
   ],
   "source": [
    "#四捨五入\n",
    "a=3.5\n",
    "b=4.5\n",
    "c=288.8\n",
    "d=999\n",
    "print('對a四捨五入',round(a))\n",
    "print('對b四捨五入',round(b))\n",
    "print('對c四捨五入',round(c))\n",
    "print('對d四捨五入',round(d))\n",
    "#python內建的四捨五入不是數學上的四捨五入，只會到附近的偶數\n",
    "#需下載入一個套件\n",
    "import math\n",
    "\n",
    "print('對a四捨五入(floor)',math.floor(a))\n",
    "print('對a四捨五入(ceil)',math.ceil(a))\n",
    "print('對b四捨五入(floor)',math.floor(b))\n",
    "print('對b四捨五入(ceil)',math.ceil(b))\n"
   ]
  },
  {
   "cell_type": "code",
   "execution_count": 4,
   "metadata": {},
   "outputs": [
    {
     "name": "stdout",
     "output_type": "stream",
     "text": [
      "name is tim, and 10 yrs\n",
      "name istom, and 100yrs\n"
     ]
    }
   ],
   "source": [
    "name='tim'\n",
    "age=10\n",
    "print('name is %s, and %d yrs' %(name, age))\n",
    "\n",
    "#format字串插補\n",
    "name='tom'\n",
    "age=100\n",
    "print('name is {}, and {} yrs'.format(name, age))\n",
    "\n",
    "#roberthsu2003徐國堂 github\n",
    "#https://github.com/roberthsu2003/__112_python_flask__"
   ]
  }
 ],
 "metadata": {
  "kernelspec": {
   "display_name": "Python 3",
   "language": "python",
   "name": "python3"
  },
  "language_info": {
   "codemirror_mode": {
    "name": "ipython",
    "version": 3
   },
   "file_extension": ".py",
   "mimetype": "text/x-python",
   "name": "python",
   "nbconvert_exporter": "python",
   "pygments_lexer": "ipython3",
   "version": "3.11.3"
  },
  "orig_nbformat": 4
 },
 "nbformat": 4,
 "nbformat_minor": 2
}
