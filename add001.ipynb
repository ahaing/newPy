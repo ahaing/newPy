{
 "cells": [
  {
   "cell_type": "code",
   "execution_count": 24,
   "metadata": {},
   "outputs": [
    {
     "data": {
      "text/plain": [
       "'eellh-o'"
      ]
     },
     "execution_count": 24,
     "metadata": {},
     "output_type": "execute_result"
    }
   ],
   "source": [
    "#字串相加\n",
    "str='hello'+','+'python'\n",
    "str\n",
    "a=str[1]\n",
    "b=str[1:4]\n",
    "c=str[0]\n",
    "d=str[10]\n",
    "a+b+c+'-'+d"
   ]
  },
  {
   "cell_type": "code",
   "execution_count": 25,
   "metadata": {},
   "outputs": [
    {
     "data": {
      "text/plain": [
       "'nohtyp,olleh   HELLO,PYTHON   hello,python'"
      ]
     },
     "execution_count": 25,
     "metadata": {},
     "output_type": "execute_result"
    }
   ],
   "source": [
    "#字串反轉\n",
    "e=str[::-1]\n",
    "e+'   '+str.upper()+'   '+str.lower()"
   ]
  },
  {
   "cell_type": "code",
   "execution_count": 26,
   "metadata": {},
   "outputs": [
    {
     "data": {
      "text/plain": [
       "['hello', 'python']"
      ]
     },
     "execution_count": 26,
     "metadata": {},
     "output_type": "execute_result"
    }
   ],
   "source": [
    "#字串替換\n",
    "str.replace('python','java')\n",
    "\n",
    "#字串分割\n",
    "str.split(',')"
   ]
  },
  {
   "cell_type": "code",
   "execution_count": 34,
   "metadata": {},
   "outputs": [
    {
     "data": {
      "text/plain": [
       "'h_e_l_l_o_,_j_a_v_a'"
      ]
     },
     "execution_count": 34,
     "metadata": {},
     "output_type": "execute_result"
    }
   ],
   "source": [
    "str_2='aa_bb_cc_dd'\n",
    "str_2.split('_')\n",
    "\n",
    "str_3='hello,abc'\n",
    "str_3.find('a')\n",
    "\n",
    "#刪除頭尾空格\n",
    "str_4='   hello,abc'\n",
    "str_5=str_4.strip()\n",
    "str_5\n",
    "\n",
    "#串接\n",
    "str_6='_'\n",
    "str_7='hello,java'\n",
    "str_6.join(str_7)"
   ]
  },
  {
   "cell_type": "code",
   "execution_count": 38,
   "metadata": {},
   "outputs": [
    {
     "name": "stdout",
     "output_type": "stream",
     "text": [
      "the number you enter is: asdf\n",
      "你輸入的數字是asdf\n"
     ]
    }
   ],
   "source": [
    "#input & output\n",
    "num=input('please enter a number:') \n",
    "#f string\n",
    "print('the number you enter is:', num)\n",
    "print(f'你輸入的數字是{num}')"
   ]
  }
 ],
 "metadata": {
  "kernelspec": {
   "display_name": "Python 3 (ipykernel)",
   "language": "python",
   "name": "python3"
  },
  "language_info": {
   "codemirror_mode": {
    "name": "ipython",
    "version": 3
   },
   "file_extension": ".py",
   "mimetype": "text/x-python",
   "name": "python",
   "nbconvert_exporter": "python",
   "pygments_lexer": "ipython3",
   "version": "3.10.4"
  },
  "orig_nbformat": 4
 },
 "nbformat": 4,
 "nbformat_minor": 2
}
